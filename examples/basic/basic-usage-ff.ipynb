{
 "cells": [
  {
   "cell_type": "markdown",
   "source": [
    "# Feast Basic CustomerTransactions Example"
   ],
   "metadata": {
    "collapsed": false
   }
  },
  {
   "cell_type": "markdown",
   "source": [
    "This is a minimal example of using Feast. In this example we will\n",
    "1. Create a synthetic customer feature dataset\n",
    "1. Register a feature set to represent these features in Feast\n",
    "1. Ingest these features into Feast\n",
    "1. Create a feature query and retrieve historical feature data"
   ],
   "metadata": {
    "collapsed": false
   }
  },
  {
   "cell_type": "markdown",
   "source": [
    "### 1. Install Feast and dependencies\n",
    "\n",
    "If you are using `gcr.io/konnekt-core/jupyter-feast`, it should already be available in the `feast-venv` kernel.\n",
    "\n",
    "Otherwise use the following command (`#ask-konnekt` for pypi credentials if you don't have any)."
   ],
   "metadata": {
    "collapsed": false
   }
  },
  {
   "cell_type": "code",
   "execution_count": null,
   "outputs": [],
   "source": [
    "!pip install --quiet --upgrade pip pandas numpy protobuf \\\n",
    "  && pip install -i \"https://pypi.prod.konnekt.us/simple/\" --extra-index-url https://pypi.org/simple/ \"feast==0.4.3.dev68+g1feb425.d20200108\""
   ],
   "metadata": {
    "collapsed": false,
    "pycharm": {
     "name": "#%%\n"
    }
   }
  },
  {
   "cell_type": "markdown",
   "source": [
    "### 2. Import necessary modules"
   ],
   "metadata": {
    "collapsed": false
   }
  },
  {
   "cell_type": "code",
   "execution_count": null,
   "outputs": [],
   "source": [
    "import pandas as pd\n",
    "import numpy as np\n",
    "from pytz import utc\n",
    "from feast import Client, FeatureSet, Entity, ValueType\n",
    "from google.protobuf.duration_pb2 import Duration\n",
    "from datetime import datetime, timedelta\n",
    "from random import randrange, randint\n",
    "import os"
   ],
   "metadata": {
    "collapsed": false,
    "pycharm": {
     "name": "#%%\n"
    }
   }
  },
  {
   "cell_type": "markdown",
   "source": [
    "### 3. Configure Feast services and connect the Feast client\n",
    "\n",
    "If you have injected the environment variables into your notebook, you can use the follow code. Otherwise configure as necessary.\n",
    "\n",
    "Note, we will not be using online serving for the time being."
   ],
   "metadata": {
    "collapsed": false
   }
  },
  {
   "cell_type": "code",
   "execution_count": null,
   "outputs": [],
   "source": [
    "CORE_URL = os.getenv('FEAST_CORE_URL')\n",
    "BATCH_SERVING_URL = os.getenv('FEAST_BATCH_SERVING_URL')\n",
    "ONLINE_SERVING_URL = os.getenv('FEAST_ONLINE_SERVING_URL')\n",
    "print(CORE_URL, BATCH_SERVING_URL, ONLINE_SERVING_URL)"
   ],
   "metadata": {
    "collapsed": false,
    "pycharm": {
     "name": "#%%\n"
    }
   }
  },
  {
   "cell_type": "code",
   "execution_count": null,
   "outputs": [],
   "source": [
    "PROJECT = 'proj_' + str(randint(1000, 9999))\n",
    "print(PROJECT)\n",
    "client = Client(core_url=CORE_URL, serving_url=BATCH_SERVING_URL, project=PROJECT)\n",
    "if PROJECT not in client.list_projects():\n",
    "    client.create_project(PROJECT)"
   ],
   "metadata": {
    "collapsed": false,
    "pycharm": {
     "name": "#%%\n"
    }
   }
  },
  {
   "cell_type": "markdown",
   "source": [
    "### 4. Create synthetic customer features"
   ],
   "metadata": {
    "collapsed": false
   }
  },
  {
   "cell_type": "markdown",
   "source": [
    "Here we will create customer features for 5 customers over a month. Each customer will have a set of features for every day."
   ],
   "metadata": {
    "collapsed": false
   }
  },
  {
   "cell_type": "code",
   "execution_count": null,
   "outputs": [],
   "source": [
    "days = [datetime.utcnow().replace(hour=0, minute=0, second=0, microsecond=0).replace(tzinfo=utc) \\\n",
    "        - timedelta(day) for day in range(31)]\n",
    "\n",
    "customers = [1001, 1002, 1003, 1004, 1005]"
   ],
   "metadata": {
    "collapsed": false,
    "pycharm": {
     "name": "#%%\n"
    }
   }
  },
  {
   "cell_type": "code",
   "execution_count": null,
   "outputs": [],
   "source": [
    "customer_features = pd.DataFrame(\n",
    "    {\n",
    "        \"datetime\": [day for day in days for customer in customers],\n",
    "        \"customer_id\": [customer for day in days for customer in customers],\n",
    "        \"daily_transactions\": [np.random.rand() * 10 for _ in range(len(days) * len(customers))],\n",
    "        \"total_transactions\": [np.random.randint(100) for _ in range(len(days) * len(customers))],\n",
    "    }\n",
    ")\n",
    "\n",
    "print(customer_features.head(10))"
   ],
   "metadata": {
    "collapsed": false,
    "pycharm": {
     "name": "#%%\n"
    }
   }
  },
  {
   "cell_type": "markdown",
   "source": [
    "### 5. Create feature set for customer features"
   ],
   "metadata": {
    "collapsed": false
   }
  },
  {
   "cell_type": "markdown",
   "source": [
    "Now we will create a feature set for these features. Feature sets are essentially a schema that represent\n",
    "feature values. Feature sets allow Feast to both identify feature values and their structure. \n",
    "\n",
    "In this case we need to define any entity columns as well as the maximum age. The entity column in this case is \"customer_id\". Max age is set to 1 day (defined in seconds). This means that for each feature query during retrieval, the serving API will only retrieve features up to a maximum of 1 day per provided timestamp and entity combination. "
   ],
   "metadata": {
    "collapsed": false
   }
  },
  {
   "cell_type": "code",
   "execution_count": null,
   "outputs": [],
   "source": [
    "customer_fs = FeatureSet(\n",
    "    \"customer_transactions\",\n",
    "    max_age=Duration(seconds=86400),\n",
    "    entities=[Entity(name='customer_id', dtype=ValueType.INT64)]\n",
    ")"
   ],
   "metadata": {
    "collapsed": false,
    "pycharm": {
     "name": "#%%\n"
    }
   }
  },
  {
   "cell_type": "markdown",
   "source": [
    "Here we are automatically inferring the schema from the provided dataset"
   ],
   "metadata": {
    "collapsed": false
   }
  },
  {
   "cell_type": "code",
   "execution_count": null,
   "outputs": [],
   "source": [
    "customer_fs.infer_fields_from_df(customer_features, replace_existing_features=True)"
   ],
   "metadata": {
    "collapsed": false,
    "pycharm": {
     "name": "#%%\n"
    }
   }
  },
  {
   "cell_type": "markdown",
   "source": [
    "### 6. Register feature set with Feast Core"
   ],
   "metadata": {
    "collapsed": false
   }
  },
  {
   "cell_type": "markdown",
   "source": [
    "The apply() method will register the provided feature set with Feast core, allowing users to retrieve features from this feature set"
   ],
   "metadata": {
    "collapsed": false
   }
  },
  {
   "cell_type": "code",
   "execution_count": null,
   "outputs": [],
   "source": [
    "client.apply(customer_fs)"
   ],
   "metadata": {
    "collapsed": false,
    "pycharm": {
     "name": "#%%\n"
    }
   }
  },
  {
   "cell_type": "markdown",
   "source": [
    "We test the retrieval of this feature set object (not its data), to ensure that we have the latest version"
   ],
   "metadata": {
    "collapsed": false
   }
  },
  {
   "cell_type": "code",
   "execution_count": null,
   "outputs": [],
   "source": [
    "customer_fs = client.get_feature_set(\"customer_transactions\")\n",
    "print(customer_fs)"
   ],
   "metadata": {
    "collapsed": false,
    "pycharm": {
     "name": "#%%\n"
    }
   }
  },
  {
   "cell_type": "markdown",
   "source": [
    "### 7. Ingest data into Feast for a feature set"
   ],
   "metadata": {
    "collapsed": false
   }
  },
  {
   "cell_type": "code",
   "execution_count": null,
   "outputs": [],
   "source": [
    "client.ingest(\"customer_transactions\", customer_features)"
   ],
   "metadata": {
    "collapsed": false,
    "pycharm": {
     "name": "#%%\n"
    }
   }
  },
  {
   "cell_type": "markdown",
   "source": [
    "### 8. Create a batch retrieval query"
   ],
   "metadata": {
    "collapsed": false
   }
  },
  {
   "cell_type": "markdown",
   "source": [
    "In order to retrieve historical feature data, the user must provide an entity_rows dataframe. This dataframe contains a combination of timestamps and entities. In this case, the user must provide both customer_ids and timestamps. \n",
    "\n",
    "We will randomly generate timestamps over the last 30 days, and assign customer_ids to them. When these entity rows are sent to the Feast Serving API to retrieve feature values, along with a list of feature ids, Feast is then able to attach the correct feature values to each entity row. The one exception is if the feature values fall outside of the maximum age window."
   ],
   "metadata": {
    "collapsed": false
   }
  },
  {
   "cell_type": "code",
   "execution_count": null,
   "outputs": [],
   "source": [
    "event_timestamps = [datetime.utcnow().replace(tzinfo=utc) - timedelta(days=randrange(15), hours=randrange(24), minutes=randrange(60)) for day in range(30)]\n",
    "\n",
    "entity_rows = pd.DataFrame(\n",
    "    {\n",
    "        \"datetime\": event_timestamps,\n",
    "        \"customer_id\": [customers[idx % len(customers)] for idx in range(len(event_timestamps))],\n",
    "    }\n",
    ")\n",
    "\n",
    "print(entity_rows.head(10))"
   ],
   "metadata": {
    "collapsed": false,
    "pycharm": {
     "name": "#%%\n"
    }
   }
  },
  {
   "cell_type": "markdown",
   "source": [
    "### 9. Retrieve historical/batch features"
   ],
   "metadata": {
    "collapsed": false
   }
  },
  {
   "cell_type": "code",
   "execution_count": null,
   "outputs": [],
   "source": [
    "job = client.get_batch_features(\n",
    "                            feature_refs=[\n",
    "                                f\"{PROJECT}/daily_transactions:{customer_fs.version}\",\n",
    "                                f\"{PROJECT}/total_transactions:{customer_fs.version}\"\n",
    "                               ],\n",
    "                            entity_rows=entity_rows,\n",
    "                            default_project=PROJECT\n",
    "                         )\n",
    "df = job.to_dataframe()\n",
    "print(df.head(10))"
   ],
   "metadata": {
    "collapsed": false,
    "pycharm": {
     "name": "#%%\n"
    }
   }
  },
  {
   "cell_type": "code",
   "execution_count": null,
   "outputs": [],
   "source": [],
   "metadata": {
    "collapsed": false,
    "pycharm": {
     "name": "#%%\n"
    }
   }
  }
 ],
 "metadata": {
  "language_info": {
   "codemirror_mode": {
    "name": "ipython",
    "version": 2
   },
   "file_extension": ".py",
   "mimetype": "text/x-python",
   "name": "python",
   "nbconvert_exporter": "python",
   "pygments_lexer": "ipython2",
   "version": "2.7.6"
  },
  "kernelspec": {
   "name": "pycharm-dd42bd0d",
   "language": "python",
   "display_name": "PyCharm (feast-parent)"
  },
  "pycharm": {
   "stem_cell": {
    "cell_type": "raw",
    "source": [],
    "metadata": {
     "collapsed": false
    }
   }
  }
 },
 "nbformat": 4,
 "nbformat_minor": 0
}