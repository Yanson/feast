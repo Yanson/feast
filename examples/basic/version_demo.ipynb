{
 "cells": [
  {
   "cell_type": "code",
   "execution_count": 21,
   "metadata": {},
   "outputs": [
    {
     "name": "stdout",
     "output_type": "stream",
     "text": [
      "Collecting feast==0.5.0\n",
      "  Downloading feast-0.5.0-py3-none-any.whl (93 kB)\n",
      "\u001b[K     |████████████████████████████████| 93 kB 1.5 MB/s eta 0:00:011\n",
      "\u001b[?25hRequirement already satisfied: confluent-kafka in /feast-venv/lib/python3.7/site-packages (from feast==0.5.0) (1.4.1)\n",
      "Requirement already satisfied: tabulate==0.8.* in /feast-venv/lib/python3.7/site-packages (from feast==0.5.0) (0.8.7)\n",
      "Requirement already satisfied: google-cloud-bigquery-storage==0.7.* in /feast-venv/lib/python3.7/site-packages (from feast==0.5.0) (0.7.0)\n",
      "Requirement already satisfied: google-cloud-core==1.0.* in /feast-venv/lib/python3.7/site-packages (from feast==0.5.0) (1.0.3)\n",
      "Requirement already satisfied: kafka-python==1.* in /feast-venv/lib/python3.7/site-packages (from feast==0.5.0) (1.4.7)\n",
      "Requirement already satisfied: google-auth==1.6.* in /feast-venv/lib/python3.7/site-packages (from feast==0.5.0) (1.6.3)\n",
      "Requirement already satisfied: google-api-core==1.14.* in /feast-venv/lib/python3.7/site-packages (from feast==0.5.0) (1.14.3)\n",
      "Requirement already satisfied: tqdm==4.* in /feast-venv/lib/python3.7/site-packages (from feast==0.5.0) (4.46.0)\n",
      "Requirement already satisfied: toml==0.10.* in /feast-venv/lib/python3.7/site-packages (from feast==0.5.0) (0.10.0)\n",
      "Requirement already satisfied: pandavro==1.5.* in /feast-venv/lib/python3.7/site-packages (from feast==0.5.0) (1.5.1)\n",
      "Requirement already satisfied: google in /feast-venv/lib/python3.7/site-packages (from feast==0.5.0) (2.0.3)\n",
      "Requirement already satisfied: googleapis-common-protos==1.* in /feast-venv/lib/python3.7/site-packages (from feast==0.5.0) (1.51.0)\n",
      "Requirement already satisfied: pandas==0.* in /feast-venv/lib/python3.7/site-packages (from feast==0.5.0) (0.25.3)\n",
      "Requirement already satisfied: pyarrow>=0.15.1 in /feast-venv/lib/python3.7/site-packages (from feast==0.5.0) (0.17.0)\n",
      "Requirement already satisfied: Click==7.* in /feast-venv/lib/python3.7/site-packages (from feast==0.5.0) (7.1.2)\n",
      "Requirement already satisfied: google-cloud-bigquery==1.18.* in /feast-venv/lib/python3.7/site-packages (from feast==0.5.0) (1.18.1)\n",
      "Requirement already satisfied: grpcio==1.* in /feast-venv/lib/python3.7/site-packages (from feast==0.5.0) (1.28.1)\n",
      "Collecting fastavro<0.23,>=0.22.11\n",
      "  Downloading fastavro-0.22.13-cp37-cp37m-manylinux2010_x86_64.whl (1.3 MB)\n",
      "\u001b[K     |████████████████████████████████| 1.3 MB 11.7 MB/s eta 0:00:01\n",
      "\u001b[?25hRequirement already satisfied: numpy in /feast-venv/lib/python3.7/site-packages (from feast==0.5.0) (1.18.4)\n",
      "Requirement already satisfied: PyYAML==5.1.* in /feast-venv/lib/python3.7/site-packages (from feast==0.5.0) (5.1.2)\n",
      "Requirement already satisfied: protobuf>=3.10 in /feast-venv/lib/python3.7/site-packages (from feast==0.5.0) (3.11.3)\n",
      "Requirement already satisfied: google-cloud-storage==1.20.* in /feast-venv/lib/python3.7/site-packages (from feast==0.5.0) (1.20.0)\n",
      "Requirement already satisfied: pyasn1-modules>=0.2.1 in /feast-venv/lib/python3.7/site-packages (from google-auth==1.6.*->feast==0.5.0) (0.2.8)\n",
      "Requirement already satisfied: cachetools>=2.0.0 in /feast-venv/lib/python3.7/site-packages (from google-auth==1.6.*->feast==0.5.0) (4.1.0)\n",
      "Requirement already satisfied: rsa>=3.1.4 in /feast-venv/lib/python3.7/site-packages (from google-auth==1.6.*->feast==0.5.0) (4.0)\n",
      "Requirement already satisfied: six>=1.9.0 in /feast-venv/lib/python3.7/site-packages (from google-auth==1.6.*->feast==0.5.0) (1.14.0)\n",
      "Requirement already satisfied: setuptools>=34.0.0 in /feast-venv/lib/python3.7/site-packages (from google-api-core==1.14.*->feast==0.5.0) (46.2.0)\n",
      "Requirement already satisfied: requests<3.0.0dev,>=2.18.0 in /feast-venv/lib/python3.7/site-packages (from google-api-core==1.14.*->feast==0.5.0) (2.23.0)\n",
      "Requirement already satisfied: pytz in /feast-venv/lib/python3.7/site-packages (from google-api-core==1.14.*->feast==0.5.0) (2020.1)\n",
      "Requirement already satisfied: beautifulsoup4 in /feast-venv/lib/python3.7/site-packages (from google->feast==0.5.0) (4.9.0)\n",
      "Requirement already satisfied: python-dateutil>=2.6.1 in /feast-venv/lib/python3.7/site-packages (from pandas==0.*->feast==0.5.0) (2.8.1)\n",
      "Requirement already satisfied: google-resumable-media<0.5.0dev,>=0.3.1 in /feast-venv/lib/python3.7/site-packages (from google-cloud-bigquery==1.18.*->feast==0.5.0) (0.4.1)\n",
      "Requirement already satisfied: pyasn1<0.5.0,>=0.4.6 in /feast-venv/lib/python3.7/site-packages (from pyasn1-modules>=0.2.1->google-auth==1.6.*->feast==0.5.0) (0.4.8)\n",
      "Requirement already satisfied: certifi>=2017.4.17 in /feast-venv/lib/python3.7/site-packages (from requests<3.0.0dev,>=2.18.0->google-api-core==1.14.*->feast==0.5.0) (2020.4.5.1)\n",
      "Requirement already satisfied: chardet<4,>=3.0.2 in /feast-venv/lib/python3.7/site-packages (from requests<3.0.0dev,>=2.18.0->google-api-core==1.14.*->feast==0.5.0) (3.0.4)\n",
      "Requirement already satisfied: idna<3,>=2.5 in /feast-venv/lib/python3.7/site-packages (from requests<3.0.0dev,>=2.18.0->google-api-core==1.14.*->feast==0.5.0) (2.9)\n",
      "Requirement already satisfied: urllib3!=1.25.0,!=1.25.1,<1.26,>=1.21.1 in /feast-venv/lib/python3.7/site-packages (from requests<3.0.0dev,>=2.18.0->google-api-core==1.14.*->feast==0.5.0) (1.25.9)\n",
      "Requirement already satisfied: soupsieve>1.2 in /feast-venv/lib/python3.7/site-packages (from beautifulsoup4->google->feast==0.5.0) (2.0)\n",
      "Installing collected packages: fastavro, feast\n",
      "  Attempting uninstall: fastavro\n",
      "    Found existing installation: fastavro 0.23.3\n",
      "    Uninstalling fastavro-0.23.3:\n",
      "      Successfully uninstalled fastavro-0.23.3\n",
      "  Attempting uninstall: feast\n",
      "    Found existing installation: feast 0.1.dev1+g8ab5620.d20200108\n",
      "    Uninstalling feast-0.1.dev1+g8ab5620.d20200108:\n",
      "      Successfully uninstalled feast-0.1.dev1+g8ab5620.d20200108\n",
      "Successfully installed fastavro-0.22.13 feast-0.5.0\n",
      "\u001b[33mWARNING: You are using pip version 20.1; however, version 20.1.1 is available.\n",
      "You should consider upgrading via the '/feast-venv/bin/python3.7 -m pip install --upgrade pip' command.\u001b[0m\n",
      "Note: you may need to restart the kernel to use updated packages.\n"
     ]
    }
   ],
   "source": [
    "pip install feast==0.5.0"
   ]
  },
  {
   "cell_type": "code",
   "execution_count": 1,
   "metadata": {},
   "outputs": [],
   "source": [
    "import pandas as pd\n",
    "import numpy as np\n",
    "from pytz import utc\n",
    "from feast import Client, FeatureSet, Entity, ValueType, Feature, KafkaSource\n",
    "from google.protobuf.duration_pb2 import Duration\n",
    "from datetime import datetime, timedelta\n",
    "from random import randrange, randint\n",
    "import os"
   ]
  },
  {
   "cell_type": "code",
   "execution_count": 3,
   "metadata": {},
   "outputs": [],
   "source": [
    "days = [datetime.utcnow().replace(hour=0, minute=0, second=0, microsecond=0).replace(tzinfo=utc) \\\n",
    "        - timedelta(day) for day in range(3)]\n",
    "\n",
    "customers = [1001, 1002, 1003, 1004, 1005, 1006, 1007]"
   ]
  },
  {
   "cell_type": "code",
   "execution_count": 5,
   "metadata": {},
   "outputs": [
    {
     "name": "stdout",
     "output_type": "stream",
     "text": [
      "                   datetime version  cust_id  daily_txns  total_txns\n",
      "0 2020-06-11 00:00:00+00:00      v1     1001    7.663303          79\n",
      "1 2020-06-11 00:00:00+00:00      v1     1002    2.290965          52\n",
      "2 2020-06-11 00:00:00+00:00      v1     1003    7.382909          52\n",
      "3 2020-06-11 00:00:00+00:00      v1     1004    4.390253          23\n",
      "4 2020-06-11 00:00:00+00:00      v1     1005    6.689010           7\n",
      "5 2020-06-11 00:00:00+00:00      v1     1006    7.473775          81\n",
      "6 2020-06-11 00:00:00+00:00      v1     1007    5.180179          52\n",
      "7 2020-06-10 00:00:00+00:00      v1     1001    7.703890           1\n",
      "8 2020-06-10 00:00:00+00:00      v1     1002    1.289145          70\n",
      "9 2020-06-10 00:00:00+00:00      v1     1003    5.611463          48\n",
      "                   datetime version  cust_id  daily_txns  total_txns\n",
      "0 2020-06-11 00:00:00+00:00      v2     1001    4.830068          35\n",
      "1 2020-06-11 00:00:00+00:00      v2     1002    8.588636           3\n",
      "2 2020-06-11 00:00:00+00:00      v2     1003    0.307931          70\n",
      "3 2020-06-11 00:00:00+00:00      v2     1004    8.294043          74\n",
      "4 2020-06-11 00:00:00+00:00      v2     1005    8.995524          45\n",
      "5 2020-06-11 00:00:00+00:00      v2     1006    0.717115          99\n",
      "6 2020-06-11 00:00:00+00:00      v2     1007    9.546258          23\n",
      "7 2020-06-10 00:00:00+00:00      v2     1001    8.855293          40\n",
      "8 2020-06-10 00:00:00+00:00      v2     1002    0.250941          92\n",
      "9 2020-06-10 00:00:00+00:00      v2     1003    9.509381          98\n"
     ]
    }
   ],
   "source": [
    "customer_features_v1 = pd.DataFrame(\n",
    "    {\n",
    "        \"datetime\": [day for day in days for customer in customers],\n",
    "        \"version\": \"v1\",\n",
    "        \"cust_id\": [customer for day in days for customer in customers],\n",
    "        \"daily_txns\": [np.random.rand() * 10 for _ in range(len(days) * len(customers))],\n",
    "        \"total_txns\": [np.random.randint(100) for _ in range(len(days) * len(customers))],\n",
    "    }\n",
    ")\n",
    "\n",
    "print(customer_features_v1.head(10))\n",
    "\n",
    "customer_features_v2 = pd.DataFrame(\n",
    "    {\n",
    "        \"datetime\": [day for day in days for customer in customers],\n",
    "        \"version\": [\"v2\" for day in days for customer in customers],\n",
    "        \"cust_id\": [customer for day in days for customer in customers],\n",
    "        \"daily_txns\": [np.random.rand() * 10 for _ in range(len(days) * len(customers))],\n",
    "        \"total_txns\": [np.random.randint(100) for _ in range(len(days) * len(customers))],\n",
    "    }\n",
    ")\n",
    "\n",
    "print(customer_features_v2.head(10))"
   ]
  },
  {
   "cell_type": "code",
   "execution_count": 19,
   "metadata": {},
   "outputs": [
    {
     "name": "stdout",
     "output_type": "stream",
     "text": [
      "Feature daily_txns (ValueType.DOUBLE) added from dataframe.\n",
      "Feature total_txns (ValueType.INT64) added from dataframe.\n",
      "\n"
     ]
    }
   ],
   "source": [
    "customer_fs = FeatureSet(\n",
    "    \"customer_txns\",\n",
    "    max_age=Duration(seconds=86400),\n",
    "    entities=[Entity(name='version', dtype=ValueType.STRING),Entity(name='cust_id', dtype=ValueType.INT64)]\n",
    ")\n",
    "customer_fs.infer_fields_from_df(customer_features_v1, replace_existing_features=True)"
   ]
  },
  {
   "cell_type": "code",
   "execution_count": 22,
   "metadata": {},
   "outputs": [
    {
     "name": "stdout",
     "output_type": "stream",
     "text": [
      "version_demo\n"
     ]
    }
   ],
   "source": [
    "CORE_URL=\"feast-feast-core.deep:6565\"\n",
    "BATCH_SERVING_URL=\"feast-feast-batch-serving.deep:6566\"\n",
    "PROJECT=\"version_demo\"\n",
    "print(PROJECT)\n",
    "client = Client(core_url=CORE_URL, serving_url=BATCH_SERVING_URL, project=PROJECT)\n",
    "if PROJECT not in client.list_projects():\n",
    "    client.create_project(PROJECT)"
   ]
  },
  {
   "cell_type": "code",
   "execution_count": 23,
   "metadata": {},
   "outputs": [
    {
     "name": "stdout",
     "output_type": "stream",
     "text": [
      "Feature set created: \"customer_txns\"\n"
     ]
    }
   ],
   "source": [
    "client.apply(customer_fs)"
   ]
  },
  {
   "cell_type": "code",
   "execution_count": 27,
   "metadata": {},
   "outputs": [
    {
     "name": "stdout",
     "output_type": "stream",
     "text": [
      "{\n",
      "  \"spec\": {\n",
      "    \"name\": \"customer_txns\",\n",
      "    \"entities\": [\n",
      "      {\n",
      "        \"name\": \"version\",\n",
      "        \"valueType\": \"STRING\"\n",
      "      },\n",
      "      {\n",
      "        \"name\": \"cust_id\",\n",
      "        \"valueType\": \"INT64\"\n",
      "      }\n",
      "    ],\n",
      "    \"features\": [\n",
      "      {\n",
      "        \"name\": \"daily_txns\",\n",
      "        \"valueType\": \"DOUBLE\"\n",
      "      },\n",
      "      {\n",
      "        \"name\": \"total_txns\",\n",
      "        \"valueType\": \"INT64\"\n",
      "      }\n",
      "    ],\n",
      "    \"maxAge\": \"86400s\",\n",
      "    \"source\": {\n",
      "      \"type\": \"KAFKA\",\n",
      "      \"kafkaSourceConfig\": {\n",
      "        \"bootstrapServers\": \"10.163.12.6:9092\",\n",
      "        \"topic\": \"feast-features\"\n",
      "      }\n",
      "    },\n",
      "    \"project\": \"version_demo\"\n",
      "  },\n",
      "  \"meta\": {\n",
      "    \"createdTimestamp\": \"2020-06-11T14:09:21Z\",\n",
      "    \"status\": \"STATUS_READY\"\n",
      "  }\n",
      "}\n"
     ]
    }
   ],
   "source": [
    "customer_fs = client.get_feature_set(\"customer_txns\")\n",
    "print(customer_fs)"
   ]
  },
  {
   "cell_type": "code",
   "execution_count": 28,
   "metadata": {},
   "outputs": [
    {
     "name": "stderr",
     "output_type": "stream",
     "text": [
      "\n",
      "\n",
      "  0%|          | 0/21 [00:00<?, ?rows/s]\u001b[A\u001b[A"
     ]
    },
    {
     "name": "stdout",
     "output_type": "stream",
     "text": [
      "Waiting for feature set to be ready for ingestion...\n"
     ]
    },
    {
     "name": "stderr",
     "output_type": "stream",
     "text": [
      "\n",
      "\n",
      "  5%|▍         | 1/21 [00:01<00:20,  1.00s/rows]\u001b[A\u001b[A\n",
      "\n",
      "100%|██████████| 21/21 [00:01<00:00, 20.78rows/s]\u001b[A\u001b[A"
     ]
    },
    {
     "name": "stdout",
     "output_type": "stream",
     "text": [
      "Ingestion complete!\n",
      "\n",
      "Ingestion statistics:\n",
      "Success: 21/21\n",
      "Removing temporary file(s)...\n"
     ]
    },
    {
     "name": "stderr",
     "output_type": "stream",
     "text": [
      "\n"
     ]
    },
    {
     "data": {
      "text/plain": [
       "'bea2bfc9-4788-3231-beba-84c2c9ba6bb6'"
      ]
     },
     "execution_count": 28,
     "metadata": {},
     "output_type": "execute_result"
    },
    {
     "name": "stderr",
     "output_type": "stream",
     "text": [
      "Process ForkPoolWorker-3:\n",
      "Traceback (most recent call last):\n",
      "  File \"/usr/lib/python3.7/multiprocessing/process.py\", line 297, in _bootstrap\n",
      "    self.run()\n",
      "  File \"/usr/lib/python3.7/multiprocessing/process.py\", line 99, in run\n",
      "    self._target(*self._args, **self._kwargs)\n",
      "  File \"/usr/lib/python3.7/multiprocessing/pool.py\", line 110, in worker\n",
      "    task = get()\n",
      "  File \"/usr/lib/python3.7/multiprocessing/queues.py\", line 352, in get\n",
      "    res = self._reader.recv_bytes()\n",
      "  File \"/usr/lib/python3.7/multiprocessing/connection.py\", line 216, in recv_bytes\n",
      "    buf = self._recv_bytes(maxlength)\n",
      "  File \"/usr/lib/python3.7/multiprocessing/connection.py\", line 407, in _recv_bytes\n",
      "    buf = self._recv(4)\n",
      "  File \"/usr/lib/python3.7/multiprocessing/connection.py\", line 379, in _recv\n",
      "    chunk = read(handle, remaining)\n",
      "KeyboardInterrupt\n"
     ]
    }
   ],
   "source": [
    "client.ingest(\"customer_txns\", customer_features_v1)"
   ]
  },
  {
   "cell_type": "code",
   "execution_count": 29,
   "metadata": {},
   "outputs": [
    {
     "name": "stderr",
     "output_type": "stream",
     "text": [
      "\n",
      "\n",
      "  0%|          | 0/21 [00:00<?, ?rows/s]\u001b[A\u001b[A"
     ]
    },
    {
     "name": "stdout",
     "output_type": "stream",
     "text": [
      "Waiting for feature set to be ready for ingestion...\n"
     ]
    },
    {
     "name": "stderr",
     "output_type": "stream",
     "text": [
      "\n",
      "\n",
      "  5%|▍         | 1/21 [00:01<00:20,  1.00s/rows]\u001b[A\u001b[A\n",
      "\n",
      "100%|██████████| 21/21 [00:01<00:00, 20.78rows/s]\u001b[A\u001b[A"
     ]
    },
    {
     "name": "stdout",
     "output_type": "stream",
     "text": [
      "Ingestion complete!\n",
      "\n",
      "Ingestion statistics:\n",
      "Success: 21/21\n",
      "Removing temporary file(s)...\n"
     ]
    },
    {
     "name": "stderr",
     "output_type": "stream",
     "text": [
      "\n"
     ]
    },
    {
     "data": {
      "text/plain": [
       "'52b311dc-e11b-3404-8653-a324afb05eb3'"
      ]
     },
     "execution_count": 29,
     "metadata": {},
     "output_type": "execute_result"
    },
    {
     "name": "stderr",
     "output_type": "stream",
     "text": [
      "Process ForkPoolWorker-4:\n",
      "Traceback (most recent call last):\n",
      "  File \"/usr/lib/python3.7/multiprocessing/process.py\", line 297, in _bootstrap\n",
      "    self.run()\n",
      "  File \"/usr/lib/python3.7/multiprocessing/process.py\", line 99, in run\n",
      "    self._target(*self._args, **self._kwargs)\n",
      "  File \"/usr/lib/python3.7/multiprocessing/pool.py\", line 110, in worker\n",
      "    task = get()\n",
      "  File \"/usr/lib/python3.7/multiprocessing/queues.py\", line 352, in get\n",
      "    res = self._reader.recv_bytes()\n",
      "  File \"/usr/lib/python3.7/multiprocessing/connection.py\", line 216, in recv_bytes\n",
      "    buf = self._recv_bytes(maxlength)\n",
      "  File \"/usr/lib/python3.7/multiprocessing/connection.py\", line 407, in _recv_bytes\n",
      "    buf = self._recv(4)\n",
      "  File \"/usr/lib/python3.7/multiprocessing/connection.py\", line 379, in _recv\n",
      "    chunk = read(handle, remaining)\n",
      "KeyboardInterrupt\n"
     ]
    }
   ],
   "source": [
    "client.ingest(\"customer_txns\", customer_features_v2)"
   ]
  },
  {
   "cell_type": "code",
   "execution_count": 30,
   "metadata": {},
   "outputs": [
    {
     "name": "stdout",
     "output_type": "stream",
     "text": [
      "                          datetime version  cust_id\n",
      "0 2020-06-10 05:30:12.851982+00:00      v1     1001\n",
      "1 2020-06-10 23:39:12.852040+00:00      v1     1002\n",
      "2 2020-06-08 19:27:12.852068+00:00      v1     1003\n",
      "3 2020-06-11 13:51:12.852078+00:00      v1     1004\n",
      "4 2020-06-10 11:21:12.852086+00:00      v1     1005\n",
      "5 2020-06-09 09:06:12.852094+00:00      v1     1006\n",
      "6 2020-06-09 01:56:12.852102+00:00      v1     1007\n",
      "                          datetime version  cust_id\n",
      "0 2020-06-10 05:30:12.851982+00:00      v2     1001\n",
      "1 2020-06-10 23:39:12.852040+00:00      v2     1002\n",
      "2 2020-06-08 19:27:12.852068+00:00      v2     1003\n",
      "3 2020-06-11 13:51:12.852078+00:00      v2     1004\n",
      "4 2020-06-10 11:21:12.852086+00:00      v2     1005\n",
      "5 2020-06-09 09:06:12.852094+00:00      v2     1006\n",
      "6 2020-06-09 01:56:12.852102+00:00      v2     1007\n"
     ]
    }
   ],
   "source": [
    "event_timestamps = [datetime.utcnow().replace(tzinfo=utc) - timedelta(days=randrange(3), hours=randrange(24), minutes=randrange(60)) for day in range(7)]\n",
    "\n",
    "entity_rows_v1 = pd.DataFrame(\n",
    "    {\n",
    "        \"datetime\": event_timestamps,\n",
    "        \"version\": \"v1\",\n",
    "        \"cust_id\": [customers[idx % len(customers)] for idx in range(len(event_timestamps))],\n",
    "    }\n",
    ")\n",
    "\n",
    "print(entity_rows_v1.head(10))\n",
    "\n",
    "entity_rows_v2 = pd.DataFrame(\n",
    "    {\n",
    "        \"datetime\": event_timestamps,\n",
    "        \"version\": \"v2\",\n",
    "        \"cust_id\": [customers[idx % len(customers)] for idx in range(len(event_timestamps))],\n",
    "    }\n",
    ")\n",
    "\n",
    "print(entity_rows_v2.head(10))"
   ]
  },
  {
   "cell_type": "code",
   "execution_count": 32,
   "metadata": {},
   "outputs": [
    {
     "name": "stdout",
     "output_type": "stream",
     "text": [
      "                   event_timestamp version  cust_id  daily_txns  total_txns\n",
      "0 2020-06-08 19:27:12.852068+00:00      v1     1003         NaN         NaN\n",
      "1 2020-06-10 05:30:12.851982+00:00      v1     1001    7.703890         1.0\n",
      "2 2020-06-09 09:06:12.852094+00:00      v1     1006    2.969220        23.0\n",
      "3 2020-06-11 13:51:12.852078+00:00      v1     1004    4.390253        23.0\n",
      "4 2020-06-10 11:21:12.852086+00:00      v1     1005    6.836232        60.0\n",
      "5 2020-06-10 23:39:12.852040+00:00      v1     1002    1.289145        70.0\n",
      "6 2020-06-09 01:56:12.852102+00:00      v1     1007    6.958955        92.0\n"
     ]
    }
   ],
   "source": [
    "job = client.get_batch_features(\n",
    "                            feature_refs=[\n",
    "                                \"daily_txns\",\n",
    "                                \"total_txns\"\n",
    "                               ],\n",
    "                            entity_rows=entity_rows_v1\n",
    "                         )\n",
    "df = job.to_dataframe()\n",
    "print(df.head(10))"
   ]
  },
  {
   "cell_type": "code",
   "execution_count": 34,
   "metadata": {},
   "outputs": [
    {
     "name": "stdout",
     "output_type": "stream",
     "text": [
      "                   event_timestamp version  cust_id  daily_txns  total_txns\n",
      "0 2020-06-08 19:27:12.852068+00:00      v2     1003         NaN         NaN\n",
      "1 2020-06-09 09:06:12.852094+00:00      v2     1006    8.203336        46.0\n",
      "2 2020-06-10 23:39:12.852040+00:00      v2     1002    0.250941        92.0\n",
      "3 2020-06-11 13:51:12.852078+00:00      v2     1004    8.294043        74.0\n",
      "4 2020-06-10 11:21:12.852086+00:00      v2     1005    0.285854        15.0\n",
      "5 2020-06-09 01:56:12.852102+00:00      v2     1007    7.016564        19.0\n",
      "6 2020-06-10 05:30:12.851982+00:00      v2     1001    8.855293        40.0\n"
     ]
    }
   ],
   "source": [
    "job = client.get_batch_features(\n",
    "                            feature_refs=[\n",
    "                                \"daily_txns\",\n",
    "                                \"total_txns\"\n",
    "                               ],\n",
    "                            entity_rows=entity_rows_v2\n",
    "                         )\n",
    "df = job.to_dataframe()\n",
    "print(df.head(10))"
   ]
  },
  {
   "cell_type": "code",
   "execution_count": null,
   "metadata": {},
   "outputs": [],
   "source": []
  }
 ],
 "metadata": {
  "kernelspec": {
   "display_name": "feast-venv",
   "language": "python",
   "name": "feast-venv"
  },
  "language_info": {
   "codemirror_mode": {
    "name": "ipython",
    "version": 3
   },
   "file_extension": ".py",
   "mimetype": "text/x-python",
   "name": "python",
   "nbconvert_exporter": "python",
   "pygments_lexer": "ipython3",
   "version": "3.7.5"
  }
 },
 "nbformat": 4,
 "nbformat_minor": 4
}
