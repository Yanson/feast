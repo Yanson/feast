{
 "cells": [
  {
   "cell_type": "code",
   "execution_count": null,
   "metadata": {
    "collapsed": true
   },
   "outputs": [],
   "source": [
    "import pandas as pd\n",
    "import numpy as np\n",
    "from pytz import utc\n",
    "from feast import Client, FeatureSet, Entity, ValueType\n",
    "from google.protobuf.duration_pb2 import Duration\n",
    "from datetime import datetime, timedelta\n",
    "from random import randrange, randint\n",
    "import os"
   ]
  },
  {
   "cell_type": "code",
   "execution_count": null,
   "metadata": {
    "collapsed": true
   },
   "outputs": [],
   "source": [
    "project_name = 'product_matching_team'\n",
    "feature_set_name = 'product_features'\n",
    "\n",
    "FEATURE_NAMES = ['texture_embedding', 'spoc_embedding', 'local_histogram', 'ccv']\n",
    "FEATURE_TYPES = [ValueType.DOUBLE_LIST, ValueType.DOUBLE_LIST, ValueType.DOUBLE_LIST, ValueType.DOUBLE_LIST]"
   ]
  },
  {
   "cell_type": "code",
   "execution_count": null,
   "metadata": {
    "collapsed": true
   },
   "outputs": [],
   "source": [
    "CORE_URL = os.getenv('FEAST_CORE_URL')\n",
    "BATCH_SERVING_URL = os.getenv('FEAST_BATCH_SERVING_URL')\n",
    "ONLINE_SERVING_URL = os.getenv('FEAST_ONLINE_SERVING_URL')\n",
    "print(CORE_URL, BATCH_SERVING_URL, ONLINE_SERVING_URL)"
   ]
  },
  {
   "cell_type": "code",
   "execution_count": null,
   "metadata": {
    "collapsed": true
   },
   "outputs": [],
   "source": [
    "def construct_project(project_name):\n",
    "    client = Client(core_url=CORE_URL, serving_url=BATCH_SERVING_URL, project=project_name)\n",
    "    if project_name not in client.list_projects():\n",
    "        print('constructing project: {}'.format(project_name))\n",
    "        client.create_project(project_name)\n",
    "    else:\n",
    "        print('project already exists: {}'.format(project_name))\n",
    "    return client"
   ]
  },
  {
   "cell_type": "code",
   "execution_count": null,
   "metadata": {
    "collapsed": true
   },
   "outputs": [],
   "source": [
    "def get_product_features(client, project_name, products, feature_refs):\n",
    "\n",
    "    entity_rows = pd.DataFrame(\n",
    "        {\n",
    "            \"datetime\": [datetime.utcnow().replace(tzinfo=utc) for _ in range(len(products))],\n",
    "            \"product_id\": [product for product in products],\n",
    "        }\n",
    "    )\n",
    "    \n",
    "    job = client.get_batch_features(\n",
    "        feature_refs=feature_refs,\n",
    "        entity_rows=entity_rows,\n",
    "        default_project=project_name,\n",
    "    )\n",
    "    df = job.to_dataframe()\n",
    "    return df"
   ]
  },
  {
   "cell_type": "code",
   "execution_count": null,
   "metadata": {
    "collapsed": true
   },
   "outputs": [],
   "source": [
    "products = [13485106, 14939385, 14550846, 14272276]\n",
    "\n",
    "client = construct_project(project_name=project_name)"
   ]
  },
  {
   "cell_type": "code",
   "execution_count": null,
   "metadata": {
    "collapsed": true
   },
   "outputs": [],
   "source": [
    "df = get_product_features(client, project_name, products, FEATURE_NAMES)"
   ]
  },
  {
   "cell_type": "code",
   "execution_count": null,
   "metadata": {
    "collapsed": true
   },
   "outputs": [],
   "source": [
    "df"
   ]
  }
 ],
 "metadata": {
  "kernelspec": {
   "display_name": "Python 3",
   "language": "python",
   "name": "python3"
  },
  "language_info": {
   "codemirror_mode": {
    "name": "ipython",
    "version": 3
   },
   "file_extension": ".py",
   "mimetype": "text/x-python",
   "name": "python",
   "nbconvert_exporter": "python",
   "pygments_lexer": "ipython3",
   "version": "3.6.1"
  }
 },
 "nbformat": 4,
 "nbformat_minor": 2
}
